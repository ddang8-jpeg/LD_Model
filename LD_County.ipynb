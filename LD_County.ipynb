{
 "cells": [
  {
   "cell_type": "code",
   "execution_count": 3,
   "metadata": {},
   "outputs": [],
   "source": [
    "import pandas as pd\n",
    "import matplotlib as plt\n",
    "import numpy as np"
   ]
  },
  {
   "cell_type": "code",
   "execution_count": 4,
   "metadata": {},
   "outputs": [
    {
     "data": {
      "text/plain": [
       "Index(['Ctyname', 'stname', 'ststatus', 'stcode', 'ctycode', 'Cases2001',\n",
       "       'Cases2002', 'Cases2003', 'Cases2004', 'Cases2005', 'Cases2006',\n",
       "       'Cases2007', 'Cases2008', 'Cases2009', 'Cases2010', 'Cases2011',\n",
       "       'Cases2012', 'Cases2013', 'Cases2014', 'Cases2015', 'Cases2016',\n",
       "       'Cases2017', 'Cases2018', 'Cases2019', 'Cases2020', 'cases2021',\n",
       "       'cases2022'],\n",
       "      dtype='object')"
      ]
     },
     "execution_count": 4,
     "metadata": {},
     "output_type": "execute_result"
    }
   ],
   "source": [
    "ld_county = pd.read_csv('data/LD_Case_Counts_by_County_2022.csv')\n",
    "ld_county.columns"
   ]
  },
  {
   "cell_type": "code",
   "execution_count": 5,
   "metadata": {},
   "outputs": [
    {
     "data": {
      "text/plain": [
       "(62, 27)"
      ]
     },
     "execution_count": 5,
     "metadata": {},
     "output_type": "execute_result"
    }
   ],
   "source": [
    "ny_cases = ld_county.loc[ld_county['stname'] == 'New York']\n",
    "ny_cases.shape"
   ]
  },
  {
   "cell_type": "markdown",
   "metadata": {},
   "source": [
    "There are 62 recorded outbreaks of legionella in New York."
   ]
  },
  {
   "cell_type": "code",
   "execution_count": 7,
   "metadata": {},
   "outputs": [
    {
     "data": {
      "text/html": [
       "<div>\n",
       "<style scoped>\n",
       "    .dataframe tbody tr th:only-of-type {\n",
       "        vertical-align: middle;\n",
       "    }\n",
       "\n",
       "    .dataframe tbody tr th {\n",
       "        vertical-align: top;\n",
       "    }\n",
       "\n",
       "    .dataframe thead th {\n",
       "        text-align: right;\n",
       "    }\n",
       "</style>\n",
       "<table border=\"1\" class=\"dataframe\">\n",
       "  <thead>\n",
       "    <tr style=\"text-align: right;\">\n",
       "      <th></th>\n",
       "      <th>NTA code</th>\n",
       "      <th>NTA name</th>\n",
       "      <th>rate</th>\n",
       "    </tr>\n",
       "  </thead>\n",
       "  <tbody>\n",
       "    <tr>\n",
       "      <th>0</th>\n",
       "      <td>BK25</td>\n",
       "      <td>Homecrest</td>\n",
       "      <td>0.00</td>\n",
       "    </tr>\n",
       "    <tr>\n",
       "      <th>1</th>\n",
       "      <td>BK46</td>\n",
       "      <td>Ocean Parkway South</td>\n",
       "      <td>0.00</td>\n",
       "    </tr>\n",
       "    <tr>\n",
       "      <th>2</th>\n",
       "      <td>BK29</td>\n",
       "      <td>Bensonhurst East</td>\n",
       "      <td>0.27</td>\n",
       "    </tr>\n",
       "    <tr>\n",
       "      <th>3</th>\n",
       "      <td>BK44</td>\n",
       "      <td>Madison</td>\n",
       "      <td>0.36</td>\n",
       "    </tr>\n",
       "    <tr>\n",
       "      <th>4</th>\n",
       "      <td>BK19</td>\n",
       "      <td>Brighton Beach</td>\n",
       "      <td>0.50</td>\n",
       "    </tr>\n",
       "    <tr>\n",
       "      <th>...</th>\n",
       "      <td>...</td>\n",
       "      <td>...</td>\n",
       "      <td>...</td>\n",
       "    </tr>\n",
       "    <tr>\n",
       "      <th>184</th>\n",
       "      <td>SI35</td>\n",
       "      <td>New Brighton-Silver Lake</td>\n",
       "      <td>3.71</td>\n",
       "    </tr>\n",
       "    <tr>\n",
       "      <th>185</th>\n",
       "      <td>SI36</td>\n",
       "      <td>Old Town-Dongan Hills-South Beach</td>\n",
       "      <td>3.81</td>\n",
       "    </tr>\n",
       "    <tr>\n",
       "      <th>186</th>\n",
       "      <td>SI48</td>\n",
       "      <td>Arden Heights</td>\n",
       "      <td>4.35</td>\n",
       "    </tr>\n",
       "    <tr>\n",
       "      <th>187</th>\n",
       "      <td>SI25</td>\n",
       "      <td>Oakwood-Oakwood Beach</td>\n",
       "      <td>4.36</td>\n",
       "    </tr>\n",
       "    <tr>\n",
       "      <th>188</th>\n",
       "      <td>SI37</td>\n",
       "      <td>Stapleton-Rosebank</td>\n",
       "      <td>5.30</td>\n",
       "    </tr>\n",
       "  </tbody>\n",
       "</table>\n",
       "<p>189 rows × 3 columns</p>\n",
       "</div>"
      ],
      "text/plain": [
       "    NTA code                           NTA name  rate\n",
       "0       BK25                          Homecrest  0.00\n",
       "1       BK46                Ocean Parkway South  0.00\n",
       "2       BK29                   Bensonhurst East  0.27\n",
       "3       BK44                            Madison  0.36\n",
       "4       BK19                     Brighton Beach  0.50\n",
       "..       ...                                ...   ...\n",
       "184     SI35           New Brighton-Silver Lake  3.71\n",
       "185     SI36  Old Town-Dongan Hills-South Beach  3.81\n",
       "186     SI48                      Arden Heights  4.35\n",
       "187     SI25              Oakwood-Oakwood Beach  4.36\n",
       "188     SI37                 Stapleton-Rosebank  5.30\n",
       "\n",
       "[189 rows x 3 columns]"
      ]
     },
     "execution_count": 7,
     "metadata": {},
     "output_type": "execute_result"
    }
   ],
   "source": [
    "nyc_rates = pd.read_csv('data/NYC.csv')\n",
    "nyc_rates"
   ]
  }
 ],
 "metadata": {
  "kernelspec": {
   "display_name": "islp",
   "language": "python",
   "name": "python3"
  },
  "language_info": {
   "codemirror_mode": {
    "name": "ipython",
    "version": 3
   },
   "file_extension": ".py",
   "mimetype": "text/x-python",
   "name": "python",
   "nbconvert_exporter": "python",
   "pygments_lexer": "ipython3",
   "version": "3.12.4"
  }
 },
 "nbformat": 4,
 "nbformat_minor": 2
}
