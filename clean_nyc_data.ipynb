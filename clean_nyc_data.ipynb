{
 "cells": [
  {
   "cell_type": "code",
   "execution_count": 1,
   "metadata": {},
   "outputs": [],
   "source": [
    "import csv"
   ]
  },
  {
   "cell_type": "code",
   "execution_count": 2,
   "metadata": {},
   "outputs": [],
   "source": [
    "input_file = 'data/NYC.txt'\n",
    "output_file = 'data/cleaned_data/NYC.csv'\n",
    "cleaned_data = []"
   ]
  },
  {
   "cell_type": "code",
   "execution_count": 3,
   "metadata": {},
   "outputs": [],
   "source": [
    "with open(input_file, 'r') as file:\n",
    "    for line in file:\n",
    "        parts = line.split()\n",
    "        length = len(parts)\n",
    "        if length < 3:\n",
    "            continue\n",
    "        code = parts[0]\n",
    "        name_list = parts[1:len(parts)-1]\n",
    "        name = \" \".join(name_list)\n",
    "        rates = parts[len(parts)-1]\n",
    "        cleaned_data.append([code, name, rates])"
   ]
  },
  {
   "cell_type": "code",
   "execution_count": 4,
   "metadata": {},
   "outputs": [],
   "source": [
    "with open(output_file, 'w', newline='') as file:\n",
    "    fieldnames = ['NTA code', 'NTA name', 'rate']\n",
    "    writer = csv.writer(file)\n",
    "    writer.writerow(fieldnames)\n",
    "    writer.writerows(cleaned_data)"
   ]
  }
 ],
 "metadata": {
  "kernelspec": {
   "display_name": "islp",
   "language": "python",
   "name": "python3"
  },
  "language_info": {
   "codemirror_mode": {
    "name": "ipython",
    "version": 3
   },
   "file_extension": ".py",
   "mimetype": "text/x-python",
   "name": "python",
   "nbconvert_exporter": "python",
   "pygments_lexer": "ipython3",
   "version": "3.12.4"
  }
 },
 "nbformat": 4,
 "nbformat_minor": 2
}
