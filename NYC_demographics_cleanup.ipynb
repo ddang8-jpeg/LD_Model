{
 "cells": [
  {
   "cell_type": "code",
   "execution_count": null,
   "metadata": {},
   "outputs": [],
   "source": [
    "import csv"
   ]
  },
  {
   "cell_type": "code",
   "execution_count": null,
   "metadata": {},
   "outputs": [],
   "source": [
    "input_file = 'data/Dempgraphics_by_NTA.txt'\n",
    "output_file = 'data/cleaned_data/NYC_demographics.csv'\n",
    "cleaned_data = []"
   ]
  },
  {
   "cell_type": "code",
   "execution_count": null,
   "metadata": {},
   "outputs": [],
   "source": [
    "with open(input_file, 'r') as file:\n",
    "    for line in file:\n",
    "        parts = line.split()\n",
    "        length = len(parts)\n",
    "        if length < 12:\n",
    "            continue\n",
    "        \n",
    "        NTA_name = parts[0:len(parts)-12]\n",
    "        NTA_code = parts[len(parts)-11]\n",
    "        Boro_name = parts[len(parts)-10]\n",
    "        Total_pop = parts[len(parts)-9]\n",
    "        pop_65 = parts[len(parts)-8]\n",
    "        perpop_65 = parts[len(parts)-7]\n",
    "        poverty_65 = parts[len(parts)-6]\n",
    "        Hispanic = parts[len(parts)-5]\n",
    "        White = parts[len(parts)-4]\n",
    "        Black = parts[len(parts)-3]\n",
    "        Asian = parts[len(parts)-2]\n",
    "        Other = parts[len(parts)-1]\n",
    "        \n",
    "        name = \" \".join(NTA_name)\n",
    "        cleaned_data.append([NTA_name, NTA_code, Boro_name, Total_pop, pop_65, perpop_65, poverty_65, Hispanic, White, Black, Asian, Other])"
   ]
  }
 ],
 "metadata": {
  "kernelspec": {
   "display_name": "islp",
   "language": "python",
   "name": "python3"
  },
  "language_info": {
   "codemirror_mode": {
    "name": "ipython",
    "version": 3
   },
   "file_extension": ".py",
   "mimetype": "text/x-python",
   "name": "python",
   "nbconvert_exporter": "python",
   "pygments_lexer": "ipython3",
   "version": "3.12.4"
  }
 },
 "nbformat": 4,
 "nbformat_minor": 2
}
